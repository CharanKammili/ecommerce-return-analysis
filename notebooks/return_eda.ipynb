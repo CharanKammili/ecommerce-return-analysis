{
 "cells": [
  {
   "cell_type": "code",
   "execution_count": null,
   "id": "2749ead4",
   "metadata": {},
   "outputs": [],
   "source": []
  },
  {
   "cell_type": "code",
   "execution_count": 1,
   "id": "10c7c8ba",
   "metadata": {},
   "outputs": [
    {
     "data": {
      "text/html": [
       "<div>\n",
       "<style scoped>\n",
       "    .dataframe tbody tr th:only-of-type {\n",
       "        vertical-align: middle;\n",
       "    }\n",
       "\n",
       "    .dataframe tbody tr th {\n",
       "        vertical-align: top;\n",
       "    }\n",
       "\n",
       "    .dataframe thead th {\n",
       "        text-align: right;\n",
       "    }\n",
       "</style>\n",
       "<table border=\"1\" class=\"dataframe\">\n",
       "  <thead>\n",
       "    <tr style=\"text-align: right;\">\n",
       "      <th></th>\n",
       "      <th>order_id</th>\n",
       "      <th>user_id</th>\n",
       "      <th>product_id</th>\n",
       "      <th>seller</th>\n",
       "      <th>order_date</th>\n",
       "      <th>quantity</th>\n",
       "      <th>is_returned</th>\n",
       "      <th>product_name</th>\n",
       "      <th>category</th>\n",
       "      <th>price</th>\n",
       "      <th>name</th>\n",
       "      <th>city</th>\n",
       "    </tr>\n",
       "  </thead>\n",
       "  <tbody>\n",
       "    <tr>\n",
       "      <th>0</th>\n",
       "      <td>O0001</td>\n",
       "      <td>U0063</td>\n",
       "      <td>P0038</td>\n",
       "      <td>Seller_C</td>\n",
       "      <td>2025-02-03 15:14:48.679629</td>\n",
       "      <td>3</td>\n",
       "      <td>False</td>\n",
       "      <td>Product_38</td>\n",
       "      <td>Beauty</td>\n",
       "      <td>239.15</td>\n",
       "      <td>User_63</td>\n",
       "      <td>New York</td>\n",
       "    </tr>\n",
       "    <tr>\n",
       "      <th>1</th>\n",
       "      <td>O0002</td>\n",
       "      <td>U0019</td>\n",
       "      <td>P0019</td>\n",
       "      <td>Seller_B</td>\n",
       "      <td>2025-02-20 15:14:48.679658</td>\n",
       "      <td>3</td>\n",
       "      <td>True</td>\n",
       "      <td>Product_19</td>\n",
       "      <td>Electronics</td>\n",
       "      <td>175.43</td>\n",
       "      <td>User_19</td>\n",
       "      <td>Houston</td>\n",
       "    </tr>\n",
       "    <tr>\n",
       "      <th>2</th>\n",
       "      <td>O0003</td>\n",
       "      <td>U0092</td>\n",
       "      <td>P0008</td>\n",
       "      <td>Seller_C</td>\n",
       "      <td>2025-04-18 15:14:48.679664</td>\n",
       "      <td>1</td>\n",
       "      <td>False</td>\n",
       "      <td>Product_8</td>\n",
       "      <td>Home &amp; Kitchen</td>\n",
       "      <td>229.05</td>\n",
       "      <td>User_92</td>\n",
       "      <td>Los Angeles</td>\n",
       "    </tr>\n",
       "    <tr>\n",
       "      <th>3</th>\n",
       "      <td>O0004</td>\n",
       "      <td>U0058</td>\n",
       "      <td>P0048</td>\n",
       "      <td>Seller_A</td>\n",
       "      <td>2025-02-20 15:14:48.679669</td>\n",
       "      <td>3</td>\n",
       "      <td>False</td>\n",
       "      <td>Product_48</td>\n",
       "      <td>Beauty</td>\n",
       "      <td>203.12</td>\n",
       "      <td>User_58</td>\n",
       "      <td>Houston</td>\n",
       "    </tr>\n",
       "    <tr>\n",
       "      <th>4</th>\n",
       "      <td>O0005</td>\n",
       "      <td>U0055</td>\n",
       "      <td>P0045</td>\n",
       "      <td>Seller_A</td>\n",
       "      <td>2025-02-19 15:14:48.679675</td>\n",
       "      <td>2</td>\n",
       "      <td>True</td>\n",
       "      <td>Product_45</td>\n",
       "      <td>Clothing</td>\n",
       "      <td>37.67</td>\n",
       "      <td>User_55</td>\n",
       "      <td>New York</td>\n",
       "    </tr>\n",
       "  </tbody>\n",
       "</table>\n",
       "</div>"
      ],
      "text/plain": [
       "  order_id user_id product_id    seller                  order_date  quantity  \\\n",
       "0    O0001   U0063      P0038  Seller_C  2025-02-03 15:14:48.679629         3   \n",
       "1    O0002   U0019      P0019  Seller_B  2025-02-20 15:14:48.679658         3   \n",
       "2    O0003   U0092      P0008  Seller_C  2025-04-18 15:14:48.679664         1   \n",
       "3    O0004   U0058      P0048  Seller_A  2025-02-20 15:14:48.679669         3   \n",
       "4    O0005   U0055      P0045  Seller_A  2025-02-19 15:14:48.679675         2   \n",
       "\n",
       "   is_returned product_name        category   price     name         city  \n",
       "0        False   Product_38          Beauty  239.15  User_63     New York  \n",
       "1         True   Product_19     Electronics  175.43  User_19      Houston  \n",
       "2        False    Product_8  Home & Kitchen  229.05  User_92  Los Angeles  \n",
       "3        False   Product_48          Beauty  203.12  User_58      Houston  \n",
       "4         True   Product_45        Clothing   37.67  User_55     New York  "
      ]
     },
     "execution_count": 1,
     "metadata": {},
     "output_type": "execute_result"
    }
   ],
   "source": [
    "# 📌 Step 1: Load Libraries\n",
    "import pandas as pd\n",
    "import matplotlib.pyplot as plt\n",
    "import seaborn as sns\n",
    "\n",
    "# Optional: set plot style\n",
    "sns.set(style=\"whitegrid\")\n",
    "\n",
    "# 📌 Step 2: Load Processed Dataset\n",
    "df = pd.read_csv('../data/processed/final_dataset.csv')\n",
    "df.head()\n"
   ]
  },
  {
   "cell_type": "code",
   "execution_count": 2,
   "id": "8e1fceb3",
   "metadata": {},
   "outputs": [
    {
     "name": "stdout",
     "output_type": "stream",
     "text": [
      "Shape: (200, 12)\n",
      "<class 'pandas.core.frame.DataFrame'>\n",
      "RangeIndex: 200 entries, 0 to 199\n",
      "Data columns (total 12 columns):\n",
      " #   Column        Non-Null Count  Dtype  \n",
      "---  ------        --------------  -----  \n",
      " 0   order_id      200 non-null    object \n",
      " 1   user_id       200 non-null    object \n",
      " 2   product_id    200 non-null    object \n",
      " 3   seller        200 non-null    object \n",
      " 4   order_date    200 non-null    object \n",
      " 5   quantity      200 non-null    int64  \n",
      " 6   is_returned   200 non-null    bool   \n",
      " 7   product_name  200 non-null    object \n",
      " 8   category      200 non-null    object \n",
      " 9   price         200 non-null    float64\n",
      " 10  name          200 non-null    object \n",
      " 11  city          200 non-null    object \n",
      "dtypes: bool(1), float64(1), int64(1), object(9)\n",
      "memory usage: 17.5+ KB\n"
     ]
    },
    {
     "data": {
      "text/plain": [
       "order_id        0\n",
       "user_id         0\n",
       "product_id      0\n",
       "seller          0\n",
       "order_date      0\n",
       "quantity        0\n",
       "is_returned     0\n",
       "product_name    0\n",
       "category        0\n",
       "price           0\n",
       "name            0\n",
       "city            0\n",
       "dtype: int64"
      ]
     },
     "execution_count": 2,
     "metadata": {},
     "output_type": "execute_result"
    }
   ],
   "source": [
    "# 📌 Step 3: Overview\n",
    "print(\"Shape:\", df.shape)\n",
    "df.info()\n",
    "df.describe()\n",
    "df.isnull().sum()\n"
   ]
  },
  {
   "cell_type": "code",
   "execution_count": 3,
   "id": "33a167ff",
   "metadata": {},
   "outputs": [
    {
     "name": "stdout",
     "output_type": "stream",
     "text": [
      "Return Rate: 40.0%\n"
     ]
    }
   ],
   "source": [
    "# 📌 Step 4: Return Rate\n",
    "total = len(df)\n",
    "returned = df['is_returned'].sum()\n",
    "rate = round((returned / total) * 100, 2)\n",
    "print(f\"Return Rate: {rate}%\")\n"
   ]
  },
  {
   "cell_type": "code",
   "execution_count": 4,
   "id": "3301dfe8",
   "metadata": {},
   "outputs": [
    {
     "name": "stderr",
     "output_type": "stream",
     "text": [
      "C:\\Users\\Chara\\AppData\\Local\\Temp\\ipykernel_26524\\1217468453.py:5: FutureWarning: \n",
      "\n",
      "Passing `palette` without assigning `hue` is deprecated and will be removed in v0.14.0. Assign the `y` variable to `hue` and set `legend=False` for the same effect.\n",
      "\n",
      "  sns.barplot(x=category_return.values, y=category_return.index, palette=\"magma\")\n"
     ]
    },
    {
     "data": {
      "image/png": "[encoded data removed]",
      "text/plain": [
       "<Figure size 1000x600 with 1 Axes>"
      ]
     },
     "metadata": {},
     "output_type": "display_data"
    }
   ],
   "source": [
    "# 📌 Step 5: Returns by Category\n",
    "category_return = df[df['is_returned'] == True].groupby('category')['order_id'].count().sort_values(ascending=False)\n",
    "\n",
    "plt.figure(figsize=(10,6))\n",
    "sns.barplot(x=category_return.values, y=category_return.index, palette=\"magma\")\n",
    "plt.title(\"Returns by Product Category\")\n",
    "plt.xlabel(\"Number of Returns\")\n",
    "plt.ylabel(\"Category\")\n",
    "plt.tight_layout()\n",
    "plt.show()\n"
   ]
  },
  {
   "cell_type": "code",
   "execution_count": 5,
   "id": "f03bae04",
   "metadata": {},
   "outputs": [
    {
     "data": {
      "text/plain": [
       "user_id\n",
       "U0069    4\n",
       "U0099    4\n",
       "U0090    4\n",
       "U0016    3\n",
       "U0019    3\n",
       "U0058    3\n",
       "U0023    3\n",
       "U0076    3\n",
       "U0095    3\n",
       "Name: order_id, dtype: int64"
      ]
     },
     "execution_count": 5,
     "metadata": {},
     "output_type": "execute_result"
    }
   ],
   "source": [
    "# 📌 Step 6: Risky Customers (3+ Returns)\n",
    "risky = df[df['is_returned']].groupby('user_id')['order_id'].count()\n",
    "risky = risky[risky > 2].sort_values(ascending=False)\n",
    "risky.head(10)\n"
   ]
  },
  {
   "cell_type": "code",
   "execution_count": 7,
   "id": "4158e2b0",
   "metadata": {},
   "outputs": [],
   "source": [
    "# 📌 Step 7 (Optional): Time-based Return Trend\n",
    "if 'timestamp' in df.columns:\n",
    "    df['timestamp'] = pd.to_datetime(df['timestamp'])\n",
    "    monthly_returns = df[df['is_returned']].groupby(df['timestamp'].dt.to_period('M')).size()\n",
    "\n",
    "    monthly_returns.plot(kind='bar', figsize=(12, 5), title='Monthly Return Volume')\n"
   ]
  },
  {
   "cell_type": "code",
   "execution_count": null,
   "id": "e5f7cde2",
   "metadata": {},
   "outputs": [],
   "source": []
  }
 ],
 "metadata": {
  "kernelspec": {
   "display_name": "zen-ds",
   "language": "python",
   "name": "python3"
  },
  "language_info": {
   "codemirror_mode": {
    "name": "ipython",
    "version": 3
   },
   "file_extension": ".py",
   "mimetype": "text/x-python",
   "name": "python",
   "nbconvert_exporter": "python",
   "pygments_lexer": "ipython3",
   "version": "3.12.9"
  }
 },
 "nbformat": 4,
 "nbformat_minor": 5
}
